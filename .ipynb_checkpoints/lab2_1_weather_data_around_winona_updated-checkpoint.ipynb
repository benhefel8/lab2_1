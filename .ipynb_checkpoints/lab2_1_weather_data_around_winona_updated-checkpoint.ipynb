{
  "nbformat": 4,
  "nbformat_minor": 0,
  "metadata": {
    "colab": {
      "provenance": []
    },
    "kernelspec": {
      "name": "python3",
      "display_name": "Python 3"
    },
    "language_info": {
      "name": "python"
    }
  },
  "cells": [
    {
      "cell_type": "markdown",
      "source": [
        "# Lab 2.1 - Weather Data Around Winona\n",
        "\n",
        "In this lab, we will download and combine a decades worth of weather data from the NOAA, focusing on weather stations within 500 miles of Winona.\n",
        "\n",
        "Here is the outline of the basic process.\n",
        "\n",
        "1. Install and investigate useful packages.\n",
        "2. Find all weather stations in proximity to Winona.\n",
        "3. Use a single station to prototype our tools.\n",
        "4. Automate the process of downloading and uncompressing data from all stations of interest.\n",
        "5. Output the results to a CSV file."
      ],
      "metadata": {
        "id": "hxJucrKj7mHJ"
      }
    },
    {
      "cell_type": "markdown",
      "source": [
        "## Problem 1 - Install and investigate useful tools.\n",
        "\n",
        "First, you should install and investigate the following tools.\n",
        "\n",
        "1. **`wget`** is a tool for programmically downloading data files from the web on the command line.  There is a Python wrapper to this tool that you can install with `pip` as shown below.\n",
        "2. **`geopy`** is a package that, among other things, implements a function for computing distances between two lat-long pairs. Again, install this package with `pip` as shown below.\n",
        "3. **`gzip`** is part of the standard Python library and"
      ],
      "metadata": {
        "id": "qeicFuT-8Vnx"
      }
    },
    {
      "cell_type": "code",
      "source": [
        "%pip install wget"
      ],
      "metadata": {
        "id": "c8pRv9PyCvPy"
      },
      "execution_count": null,
      "outputs": []
    },
    {
      "cell_type": "code",
      "source": [
        "%pip install geopy"
      ],
      "metadata": {
        "id": "uPWEksjS9REC"
      },
      "execution_count": null,
      "outputs": []
    },
    {
      "cell_type": "markdown",
      "source": [
        "#### Task 1.1 - Investigate using `wget` to download a file.\n",
        "\n",
        "Read the help/documentation on `wget` to figure out how to download the following data file [Some random data file from STAT 210] into the `./data` sub-folder.\n",
        "\n",
        "[https://github.com/yardsale8/STAT_210/raw/refs/heads/main/data/sars1.csv](https://github.com/yardsale8/STAT_210/raw/refs/heads/main/data/sars1.csv)"
      ],
      "metadata": {
        "id": "uQXgqoPb9e53"
      }
    },
    {
      "cell_type": "code",
      "source": [
        "# Your code here"
      ],
      "metadata": {
        "id": "D92NkCq_995Z"
      },
      "execution_count": null,
      "outputs": []
    },
    {
      "cell_type": "markdown",
      "source": [
        "#### Task 1.2 - Investigate using `geopy.distance.distance` to compute a distance in miles.\n",
        "\n",
        "1. Import the `distance` function from the `geopy.distance` submodule.\n",
        "2. Use Wikipedia to find the lat-long coordinates of Winona and Rochester MN.\n",
        "3. Use `distance` to compute the distance between Winona and Rochester.\n",
        "4. Use some other source (e.g., Google Maps) to check the answer."
      ],
      "metadata": {
        "id": "vTW9hZXX-Ceq"
      }
    },
    {
      "cell_type": "code",
      "source": [
        "# Your code here"
      ],
      "metadata": {
        "id": "m-XZZQ2v-i4t"
      },
      "execution_count": null,
      "outputs": []
    },
    {
      "cell_type": "markdown",
      "source": [
        "#### Task 1.3 - Investigate `gzip`\n",
        "\n",
        "The yearly NOAA data is compressed as `.gz` files, which need to be uncompressed using `gzip`.  Explore the `gzip` module by\n",
        "\n",
        "1. Exploring the documentation/help for the `gzip` module,\n",
        "2. Using `wget` to download the following link into the `./data` folder, and\n",
        "3. Using `gzip` to uncompress this file.\n",
        "4. Inspect the data in your list, which should be of type `byte`.  Use a comprehension with the expression `l.decode('utf-8')` to convert this to a list of strings.\n",
        "5. Write the uncompressed lines to an output file using `with open(path, 'w') as out` and the `writelines` method of `out`.  \n",
        "\n",
        "**Link.** [https://www.ncei.noaa.gov/pub/data/ghcn/daily/by_year/1750.csv.gz](https://www.ncei.noaa.gov/pub/data/ghcn/daily/by_year/1750.csv.gz)"
      ],
      "metadata": {
        "id": "FHdoE7ZFBXlU"
      }
    },
    {
      "cell_type": "code",
      "source": [
        "# Your code here"
      ],
      "metadata": {
        "id": "88NVuihyCBBO"
      },
      "execution_count": null,
      "outputs": []
    },
    {
      "cell_type": "markdown",
      "source": [
        "## Problem 2 - Find all stations within 500 miles of Winona, MN.\n",
        "\n",
        "The file linked below contains information about all stations tracked by NOAA.  \n",
        "\n",
        "*Main folder:* https://www.ncei.noaa.gov/pub/data/ghcn/daily/\n",
        "\n",
        "*Station txt file:* https://www.ncei.noaa.gov/pub/data/ghcn/daily/ghcnd-stations.txt\n",
        "\n",
        "*Note.* While it would be easier to use the CSV version of the station file, you should use the TXT version here (for practice).\n",
        "\n",
        "**Your tasks** Our goal is to get a list of stations that are within 500 miles of Winona.  Do this by\n",
        "\n",
        "1. Using `wget` to download the stations information into the `./data` folder.\n",
        "2. Use `with` to read the lines of this file.\n",
        "3. At this point, the lines are strings in a fixed-width format separated by whitespace.  Use a list comprehension with the string split method to split the raw lines (strings) into a list of entries.\n",
        "4. There are three entries of interest, the station ID and the lat-long coordinates of the station.  Inspect the file to determine the index for these three entries.\n",
        "5. We want to transform the lines (currently a list of strings) into a record, which is a `dict` with good names for the entries as keys and the values representing the data in an appropriate type (string for station ID, `float` for the lat-long).  Use a comprehension to create a list of records as described.\n",
        "6. Use another comprehension to apply a filter to the stations, keeping only those within 500 miles of Winona."
      ],
      "metadata": {
        "id": "vt1MlIz9DWpm"
      }
    },
    {
      "cell_type": "code",
      "source": [
        "# Your code here (add cells as needed)"
      ],
      "metadata": {
        "id": "F0J443KoFTrs"
      },
      "execution_count": null,
      "outputs": []
    },
    {
      "cell_type": "markdown",
      "source": [
        "#### Problem 3 - Prototype downloading and uncompressing a station file.\n",
        "\n",
        "Before we download and uncompress all the stations of interest, let's practice on one station file.\n",
        "\n",
        "\n",
        "1. Copy the url for some station and store is as a variable named `url`.\n",
        "2. Write `lambda` functions that extract each of the following from the station `url`: compressed file name, compressed file path (e.g., `./data/...`), and uncompressed file path (e.g., `./data/...`).\n",
        "3. Write a `lambda` function that extracts\n",
        "4. Use `wget` to download this stations data.\n",
        "5. Use `gzip` to uncompress the data.\n",
        "6. Write the data to out output file.\n",
        "\n",
        "Your code should have the following shape:\n",
        "\n",
        "```{Python}\n",
        "wget.download(...)\n",
        "with gzip.open(...) as f:\n",
        "    with open(..., 'w') as out:\n",
        "        f.readlines()\n",
        "        out.writelines(f)\n",
        "```\n",
        "\n",
        "You should be using your helper functions to, in part, fill in the `...`"
      ],
      "metadata": {
        "id": "C7_9ve26IduT"
      }
    },
    {
      "cell_type": "code",
      "source": [
        "# Your code here"
      ],
      "metadata": {
        "id": "04YS60A1JciS"
      },
      "execution_count": null,
      "outputs": []
    },
    {
      "cell_type": "markdown",
      "source": [
        "## Problem 4 - Build the station URLs and download the files.\n",
        "\n",
        "**Tasks.** Now you need to build urls for all stations of interest by\n",
        "\n",
        "1. Use a comprehension to extract the stations of interest into a list.\n",
        "2. Investigating the structure of the files stored in the `by_station` folder (see main folder link above).\n",
        "3. Use a comprehension and an `f` string to build a list of URLS for all stations of interest.\n",
        "4. Use `wget` to download the data for the stations of interest into the data folder.\n",
        "5. Use `gzip` to uncompress the files.\n",
        "6. Convert the `bytes` to `str` of format `utf-8`.\n",
        "7. Use the append mode `\"a\"` of `open` with `writelines` to append the data in each file to your output file.\n",
        "\n",
        "While we usually avoid using a `for` loop, we make an exception for code for lengthy IO.  To accomplish steps 4 & 5, use a `for` loop with the following shape.\n",
        "\n",
        "```{Python}\n",
        "for url in station_urls:\n",
        "    wget.download(...)\n",
        "    with gzip.open(...) as f:\n",
        "        with open(..., 'a') as out:\n",
        "            f.readlines()\n",
        "            ... # Convert lines to strings here\n",
        "            out.writelines(f)\n",
        "    print(f\"Downloaded and extracted the data for {url}\")\n",
        "```\n",
        "\n",
        "Note that the code inside the loop should resemble the code from the previous step."
      ],
      "metadata": {
        "id": "YzgFqv5VF38i"
      }
    },
    {
      "cell_type": "code",
      "source": [
        "# Your code here."
      ],
      "metadata": {
        "id": "SOUt7rCBIZ6f"
      },
      "execution_count": null,
      "outputs": []
    },
    {
      "cell_type": "code",
      "source": [
        "fake_station = \"A123456789\"\n",
        "make_fake_url = lambda s: f\"https://my_fake_website.cool/{s}\"\n",
        "\n",
        "make_fake_url(fake_station)"
      ],
      "metadata": {
        "colab": {
          "base_uri": "https://localhost:8080/",
          "height": 35
        },
        "id": "tnGWOC1xF9kT",
        "outputId": "9b060cfe-aa8e-4930-880c-b720a36fc911"
      },
      "execution_count": null,
      "outputs": [
        {
          "output_type": "execute_result",
          "data": {
            "text/plain": [
              "'https://my_fake_website.cool/A123456789'"
            ],
            "application/vnd.google.colaboratory.intrinsic+json": {
              "type": "string"
            }
          },
          "metadata": {},
          "execution_count": 23
        }
      ]
    },
    {
      "cell_type": "code",
      "source": [
        "my_fake_stations =[f'A{i}' for i in range(10)]\n",
        "\n",
        "(my_fake_urls := [make_fake_url(s) for s in my_fake_stations])"
      ],
      "metadata": {
        "colab": {
          "base_uri": "https://localhost:8080/"
        },
        "id": "7RPvTJEJGYtc",
        "outputId": "da643b74-66a9-4b29-8cce-a679a2d9fa5a"
      },
      "execution_count": null,
      "outputs": [
        {
          "output_type": "execute_result",
          "data": {
            "text/plain": [
              "['https://my_fake_website.cool/A0',\n",
              " 'https://my_fake_website.cool/A1',\n",
              " 'https://my_fake_website.cool/A2',\n",
              " 'https://my_fake_website.cool/A3',\n",
              " 'https://my_fake_website.cool/A4',\n",
              " 'https://my_fake_website.cool/A5',\n",
              " 'https://my_fake_website.cool/A6',\n",
              " 'https://my_fake_website.cool/A7',\n",
              " 'https://my_fake_website.cool/A8',\n",
              " 'https://my_fake_website.cool/A9']"
            ]
          },
          "metadata": {},
          "execution_count": 26
        }
      ]
    },
    {
      "cell_type": "code",
      "source": [
        "# Your code here"
      ],
      "metadata": {
        "id": "jVG4xpnvMvRK"
      },
      "execution_count": null,
      "outputs": []
    }
  ]
}